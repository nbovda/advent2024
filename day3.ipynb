{
 "cells": [
  {
   "cell_type": "code",
   "execution_count": 42,
   "metadata": {},
   "outputs": [],
   "source": [
    "lines = open('data/input3.txt', 'r').read().splitlines()"
   ]
  },
  {
   "cell_type": "code",
   "execution_count": 48,
   "metadata": {},
   "outputs": [
    {
     "name": "stdout",
     "output_type": "stream",
     "text": [
      "sum:  166357705\n"
     ]
    }
   ],
   "source": [
    "import re\n",
    "\n",
    "sum = 0\n",
    "\n",
    "for x in lines:\n",
    "    all_proper_mul = re.findall(r\"mul\\([0-9]{1,3},[0-9]{1,3}\\)\", x)\n",
    "\n",
    "    for i in range(len(all_proper_mul)):\n",
    "        line = all_proper_mul[i]\n",
    "        digits = re.findall(r\"[0-9]{1,3},[0-9]{1,3}\", line)\n",
    "\n",
    "        for y in digits:\n",
    "            mult_digits = y.split(\",\", 1)\n",
    "            mult_res = int(mult_digits[0]) * int(mult_digits[1])\n",
    "            sum = sum + mult_res            \n",
    "   \n",
    "print(\"sum: \", sum)"
   ]
  },
  {
   "cell_type": "code",
   "execution_count": null,
   "metadata": {},
   "outputs": [],
   "source": []
  },
  {
   "cell_type": "code",
   "execution_count": null,
   "metadata": {},
   "outputs": [],
   "source": []
  }
 ],
 "metadata": {
  "kernelspec": {
   "display_name": ".venv",
   "language": "python",
   "name": "python3"
  },
  "language_info": {
   "codemirror_mode": {
    "name": "ipython",
    "version": 3
   },
   "file_extension": ".py",
   "mimetype": "text/x-python",
   "name": "python",
   "nbconvert_exporter": "python",
   "pygments_lexer": "ipython3",
   "version": "3.10.4"
  }
 },
 "nbformat": 4,
 "nbformat_minor": 2
}
