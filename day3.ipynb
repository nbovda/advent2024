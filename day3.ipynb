{
 "cells": [
  {
   "cell_type": "code",
   "execution_count": 36,
   "metadata": {},
   "outputs": [],
   "source": [
    "lines = open('data/input3_easy_copy.txt', 'r').read().splitlines()"
   ]
  },
  {
   "cell_type": "code",
   "execution_count": 37,
   "metadata": {},
   "outputs": [
    {
     "name": "stdout",
     "output_type": "stream",
     "text": [
      "all:  ['mul(696,865)', 'mul(170,685)', 'mul(894,569)', 'mul(648,114)']\n",
      " \n",
      "sum:  1301048\n"
     ]
    }
   ],
   "source": [
    "import re\n",
    "\n",
    "for x in lines:\n",
    "    all_proper_mul = re.findall(r\"mul\\([0-9]{1,3},[0-9]{1,3}\\)\", x)\n",
    "    print(\"all: \", all_proper_mul)\n",
    "    print(\" \")\n",
    "\n",
    "    sum = 0\n",
    "\n",
    "    for i in range(len(all_proper_mul)):\n",
    "        line = all_proper_mul[i]\n",
    "        digits = re.findall(r\"[0-9]{1,3},[0-9]{1,3}\", line)\n",
    "\n",
    "        for y in range (len(digits)):\n",
    "            mult_digits = digits[y].split(\",\", 1)\n",
    "            mult_res = int(mult_digits[0]) * int(mult_digits[1])\n",
    "            sum = sum + mult_res\n",
    "        \n",
    "\n",
    "        #tmp = digits[i].split(\",\", 1)\n",
    "            \n",
    "   \n",
    "print(\"sum: \", sum)\n",
    "\n"
   ]
  },
  {
   "cell_type": "code",
   "execution_count": null,
   "metadata": {},
   "outputs": [],
   "source": []
  },
  {
   "cell_type": "code",
   "execution_count": null,
   "metadata": {},
   "outputs": [],
   "source": []
  }
 ],
 "metadata": {
  "kernelspec": {
   "display_name": ".venv",
   "language": "python",
   "name": "python3"
  },
  "language_info": {
   "codemirror_mode": {
    "name": "ipython",
    "version": 3
   },
   "file_extension": ".py",
   "mimetype": "text/x-python",
   "name": "python",
   "nbconvert_exporter": "python",
   "pygments_lexer": "ipython3",
   "version": "3.10.4"
  }
 },
 "nbformat": 4,
 "nbformat_minor": 2
}
