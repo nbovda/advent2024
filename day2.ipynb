{
 "cells": [
  {
   "cell_type": "code",
   "execution_count": 110,
   "metadata": {},
   "outputs": [],
   "source": [
    "lines = open('data/input2.txt', 'r').read().splitlines()"
   ]
  },
  {
   "cell_type": "code",
   "execution_count": 120,
   "metadata": {},
   "outputs": [
    {
     "name": "stdout",
     "output_type": "stream",
     "text": [
      "count:  314\n"
     ]
    }
   ],
   "source": [
    "def safe_diffrence(el1: int, el2: int) -> bool:\n",
    "    diff = abs(el1 - el2)\n",
    "    return diff != 0 and diff <= 3 \n",
    "\n",
    "def is_monotonic(line) -> bool:\n",
    "    current = int(line[0])\n",
    "\n",
    "    is_increasing = current < int(line[1])\n",
    "    \n",
    "    for i in range(1, len(line)):\n",
    "        next = int(line[i])\n",
    "\n",
    "        if not safe_diffrence(current, next):\n",
    "            return False\n",
    "\n",
    "        direction = current < next\n",
    "        if (is_increasing != direction):\n",
    "            return False\n",
    "\n",
    "        if current == next:\n",
    "            return False\n",
    "        current = next\n",
    "\n",
    "    return True\n",
    "\n",
    "count = 0\n",
    "for x in lines:\n",
    "    line = x.split(\" \")\n",
    "\n",
    "    if is_monotonic(line):\n",
    "        count = count + 1\n",
    "\n",
    "print(\"count: \", count)\n",
    "\n"
   ]
  },
  {
   "cell_type": "code",
   "execution_count": null,
   "metadata": {},
   "outputs": [],
   "source": []
  },
  {
   "cell_type": "code",
   "execution_count": null,
   "metadata": {},
   "outputs": [],
   "source": []
  }
 ],
 "metadata": {
  "kernelspec": {
   "display_name": ".venv",
   "language": "python",
   "name": "python3"
  },
  "language_info": {
   "codemirror_mode": {
    "name": "ipython",
    "version": 3
   },
   "file_extension": ".py",
   "mimetype": "text/x-python",
   "name": "python",
   "nbconvert_exporter": "python",
   "pygments_lexer": "ipython3",
   "version": "3.10.4"
  }
 },
 "nbformat": 4,
 "nbformat_minor": 2
}
