{
 "cells": [
  {
   "cell_type": "code",
   "execution_count": 25,
   "metadata": {},
   "outputs": [],
   "source": [
    "lines = open('data/input1.txt', 'r').read().splitlines()"
   ]
  },
  {
   "cell_type": "code",
   "execution_count": 26,
   "metadata": {},
   "outputs": [
    {
     "name": "stdout",
     "output_type": "stream",
     "text": [
      "sum =  2344935\n"
     ]
    }
   ],
   "source": [
    "left = []\n",
    "right = []\n",
    "\n",
    "for x in lines:\n",
    "    tmp = x.split(\"   \", 1)\n",
    "    left.append(int(tmp[0]))\n",
    "    right.append(int(tmp[1]))\n",
    "\n",
    "left.sort()\n",
    "right.sort()\n",
    "\n",
    "sum = 0\n",
    "\n",
    "for i in range(len(left)):\n",
    "    difference = left[i] - right[i]\n",
    "    sum = sum + abs(difference)\n",
    "\n",
    "print(\"sum = \", sum)"
   ]
  },
  {
   "cell_type": "code",
   "execution_count": null,
   "metadata": {},
   "outputs": [],
   "source": []
  },
  {
   "cell_type": "code",
   "execution_count": null,
   "metadata": {},
   "outputs": [],
   "source": []
  }
 ],
 "metadata": {
  "kernelspec": {
   "display_name": ".venv",
   "language": "python",
   "name": "python3"
  },
  "language_info": {
   "codemirror_mode": {
    "name": "ipython",
    "version": 3
   },
   "file_extension": ".py",
   "mimetype": "text/x-python",
   "name": "python",
   "nbconvert_exporter": "python",
   "pygments_lexer": "ipython3",
   "version": "3.10.4"
  }
 },
 "nbformat": 4,
 "nbformat_minor": 2
}
